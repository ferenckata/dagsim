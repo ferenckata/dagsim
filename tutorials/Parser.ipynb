{
 "cells": [
  {
   "cell_type": "code",
   "execution_count": 1,
   "metadata": {
    "collapsed": true
   },
   "outputs": [],
   "source": [
    "from dagsim.utils.parser import DagSimSpec\n"
   ]
  },
  {
   "cell_type": "code",
   "execution_count": 2,
   "outputs": [
    {
     "name": "stdout",
     "output_type": "stream",
     "text": [
      "--> Z\n",
      "add ['X', 'Y'] {}\n",
      "--> W\n",
      "square_plus_constant [] {'z': 'Z', 'constant': 2.0}\n",
      "Node 1:\n",
      "\tname: X\n",
      "\ttype: Node\n",
      "\tfunction: normal\n",
      "\tparents: None\n",
      "Node 2:\n",
      "\tname: Y\n",
      "\ttype: Node\n",
      "\tfunction: normal\n",
      "\tparents: None\n",
      "Node 3:\n",
      "\tname: Z\n",
      "\ttype: Node\n",
      "\tfunction: add\n",
      "\tparents: X, Y\n",
      "\n",
      "Node 4:\n",
      "\tname: W\n",
      "\ttype: Node\n",
      "\tfunction: square_plus_constant\n",
      "\tparents: Z\n",
      "\n",
      "2022-02-12 14:11:05.760428: Simulation started.\n",
      "2022-02-12 14:11:05.760833: Simulating node \"X\".\n",
      "2022-02-12 14:11:05.761225: Simulating node \"Y\".\n",
      "2022-02-12 14:11:05.761578: Simulating node \"Z\".\n",
      "2022-02-12 14:11:05.762115: Simulating node \"W\".\n",
      "2022-02-12 14:11:05.765696: Simulation finished in 0.0053 seconds.\n"
     ]
    }
   ],
   "source": [
    "parser = DagSimSpec(\"parser_demo.yml\")\n",
    "\n",
    "data = parser.parse(draw=False)"
   ],
   "metadata": {
    "collapsed": false,
    "pycharm": {
     "name": "#%%\n"
    }
   }
  },
  {
   "cell_type": "code",
   "execution_count": 3,
   "outputs": [
    {
     "name": "stdout",
     "output_type": "stream",
     "text": [
      "{'X': [1.9885408319552895, 0.2625768489590722, -0.7155121954988733, 0.13500729243425147], 'Y': [-0.304863293449144, 2.034880970183802, 1.7260158656238391, -1.4114659759030568], 'Z': [1.6836775385061455, 2.297457819142874, 1.0105036701249657, -1.2764586834688054], 'W': [4.834770053670113, 7.278312430740731, 3.0211176673360254, 3.6293467706029157]}\n"
     ]
    }
   ],
   "source": [
    "print(data)"
   ],
   "metadata": {
    "collapsed": false,
    "pycharm": {
     "name": "#%%\n"
    }
   }
  }
 ],
 "metadata": {
  "kernelspec": {
   "display_name": "Python 3",
   "language": "python",
   "name": "python3"
  },
  "language_info": {
   "codemirror_mode": {
    "name": "ipython",
    "version": 2
   },
   "file_extension": ".py",
   "mimetype": "text/x-python",
   "name": "python",
   "nbconvert_exporter": "python",
   "pygments_lexer": "ipython2",
   "version": "2.7.6"
  }
 },
 "nbformat": 4,
 "nbformat_minor": 0
}