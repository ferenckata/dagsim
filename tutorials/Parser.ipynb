{
 "cells": [
  {
   "cell_type": "code",
   "execution_count": 8,
   "metadata": {
    "collapsed": true
   },
   "outputs": [],
   "source": [
    "from dagsim.utils.parser import Parser\n",
    "import yaml\n"
   ]
  },
  {
   "cell_type": "code",
   "execution_count": 9,
   "outputs": [],
   "source": [
    "yaml_def = {'graph':\n",
    "                {'python_file': 'LinReg_example_function',\n",
    "                 'name': 'my_graph',\n",
    "                 'nodes':\n",
    "                     {'y':\n",
    "                          {'function': 'ground_truth(x=x, std_dev=1)'},\n",
    "                      'x':\n",
    "                          {'function': 'numpy.random.normal',\n",
    "                           'arguments':\n",
    "                               {'scale': 1,\n",
    "                                'loc': 0}\n",
    "                           }\n",
    "                      }\n",
    "                 },\n",
    "\n",
    "            'instructions':\n",
    "                {'simulation':\n",
    "                     {'num_samples': 4,\n",
    "                      'csv_name': 'parser'}\n",
    "                 }\n",
    "            }\n",
    "\n",
    "\n",
    "with open('parser_demo.yml', 'w') as outfile:\n",
    "    yaml.dump(yaml_def, outfile, default_flow_style=False)"
   ],
   "metadata": {
    "collapsed": false,
    "pycharm": {
     "name": "#%%\n"
    }
   }
  },
  {
   "cell_type": "code",
   "execution_count": 10,
   "outputs": [
    {
     "name": "stdout",
     "output_type": "stream",
     "text": [
      "Node 1:\n",
      "\tname: x\n",
      "\ttype: Generic\n",
      "\tfunction: normal\n",
      "\targuments: {'loc': 0, 'scale': 1}\n",
      "\tparents: None\n",
      "Node 2:\n",
      "\tname: y\n",
      "\ttype: Generic\n",
      "\tfunction: ground_truth\n",
      "\targuments: {'x': 'x', 'std_dev': 1.0}\n",
      "\tparents: x\n",
      "\n",
      "Simulation started\n",
      "Simulation finished in 0.0010 seconds\n"
     ]
    }
   ],
   "source": [
    "parser = Parser(\"parser_demo.yml\")\n",
    "\n",
    "data = parser.parse(draw=False)"
   ],
   "metadata": {
    "collapsed": false,
    "pycharm": {
     "name": "#%%\n"
    }
   }
  },
  {
   "cell_type": "code",
   "execution_count": 11,
   "outputs": [
    {
     "name": "stdout",
     "output_type": "stream",
     "text": [
      "{'x': [1.137521556223698, -0.8499317370752025, -0.2443020370832544, 0.6467112105365471], 'y': [2.9194379684968887, -2.066794277890372, 0.34452802899233226, 2.352963692143364]}\n"
     ]
    }
   ],
   "source": [
    "print(data)"
   ],
   "metadata": {
    "collapsed": false,
    "pycharm": {
     "name": "#%%\n"
    }
   }
  }
 ],
 "metadata": {
  "kernelspec": {
   "display_name": "Python 3",
   "language": "python",
   "name": "python3"
  },
  "language_info": {
   "codemirror_mode": {
    "name": "ipython",
    "version": 2
   },
   "file_extension": ".py",
   "mimetype": "text/x-python",
   "name": "python",
   "nbconvert_exporter": "python",
   "pygments_lexer": "ipython2",
   "version": "2.7.6"
  }
 },
 "nbformat": 4,
 "nbformat_minor": 0
}