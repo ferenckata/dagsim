{
 "cells": [
  {
   "cell_type": "code",
   "execution_count": 1,
   "metadata": {
    "collapsed": true
   },
   "outputs": [],
   "source": [
    "from dagsim.utils.parser import DagSimSpec\n"
   ]
  },
  {
   "cell_type": "code",
   "execution_count": 2,
   "outputs": [
    {
     "name": "stdout",
     "output_type": "stream",
     "text": [
      "Node 1:\n",
      "\tname: X\n",
      "\ttype: Node\n",
      "\tfunction: normal\n",
      "\tparents: None\n",
      "Node 2:\n",
      "\tname: Y\n",
      "\ttype: Node\n",
      "\tfunction: normal\n",
      "\tparents: None\n",
      "Node 3:\n",
      "\tname: Z\n",
      "\ttype: Node\n",
      "\tfunction: add\n",
      "\tparents: X, Y\n",
      "\n",
      "Node 4:\n",
      "\tname: W\n",
      "\ttype: Node\n",
      "\tfunction: square_plus_constant\n",
      "\tparents: Z\n",
      "\n",
      "2022-02-11 11:30:36.018564: Simulation started.\n",
      "2022-02-11 11:30:36.019109: Simulating node \"X\".\n",
      "2022-02-11 11:30:36.019647: Simulating node \"Y\".\n",
      "2022-02-11 11:30:36.020046: Simulating node \"Z\".\n",
      "2022-02-11 11:30:36.020442: Simulating node \"W\".\n",
      "2022-02-11 11:30:36.023077: Simulation finished in 0.0045 seconds.\n"
     ]
    }
   ],
   "source": [
    "parser = DagSimSpec(\"parser_demo.yml\")\n",
    "\n",
    "data = parser.parse(draw=False)"
   ],
   "metadata": {
    "collapsed": false,
    "pycharm": {
     "name": "#%%\n"
    }
   }
  },
  {
   "cell_type": "code",
   "execution_count": 3,
   "outputs": [
    {
     "name": "stdout",
     "output_type": "stream",
     "text": [
      "{'X': [0.9277977340338168, 0.016494975982022736, 0.1982325588630743, -0.713329935754708], 'Y': [0.61919672744955, 2.8720548793740264, 2.0301448465216367, -0.1193515418810418], 'Z': [1.5469944614833668, 2.888549855356049, 2.228377405384711, -0.8326814776357498], 'W': [4.393191863860212, 10.343720266877451, 6.965665860829097, 2.693358443197656]}\n"
     ]
    }
   ],
   "source": [
    "print(data)"
   ],
   "metadata": {
    "collapsed": false,
    "pycharm": {
     "name": "#%%\n"
    }
   }
  }
 ],
 "metadata": {
  "kernelspec": {
   "display_name": "Python 3",
   "language": "python",
   "name": "python3"
  },
  "language_info": {
   "codemirror_mode": {
    "name": "ipython",
    "version": 2
   },
   "file_extension": ".py",
   "mimetype": "text/x-python",
   "name": "python",
   "nbconvert_exporter": "python",
   "pygments_lexer": "ipython2",
   "version": "2.7.6"
  }
 },
 "nbformat": 4,
 "nbformat_minor": 0
}