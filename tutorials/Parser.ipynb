{
 "cells": [
  {
   "cell_type": "code",
   "execution_count": 1,
   "metadata": {
    "collapsed": true
   },
   "outputs": [],
   "source": [
    "from dagsim.utils.parser import DagSimSpec\n"
   ]
  },
  {
   "cell_type": "code",
   "execution_count": 4,
   "outputs": [
    {
     "name": "stdout",
     "output_type": "stream",
     "text": [
      "_Node 1:\n",
      "\tname: x\n",
      "\ttype: Node\n",
      "\tfunction: normal\n",
      "\targuments: {'loc': 0, 'scale': 1}\n",
      "\tparents: None\n",
      "_Node 2:\n",
      "\tname: y\n",
      "\ttype: Node\n",
      "\tfunction: ground_truth\n",
      "\targuments: {'x': 'x', 'std_dev': 1.0}\n",
      "\tparents: x\n",
      "\n",
      "Simulation started\n",
      "Simulation finished in 0.0027 seconds\n"
     ]
    }
   ],
   "source": [
    "parser = DagSimSpec(\"parser_demo.yml\")\n",
    "\n",
    "data = parser.parse(draw=False)"
   ],
   "metadata": {
    "collapsed": false,
    "pycharm": {
     "name": "#%%\n"
    }
   }
  },
  {
   "cell_type": "code",
   "execution_count": 3,
   "outputs": [
    {
     "name": "stdout",
     "output_type": "stream",
     "text": [
      "{'x': [0.5606613171979558, 0.514989402132466, 0.3029185439870563, -1.0229241116822358], 'y': [1.3026128271234358, 1.451780825099358, 2.9543850720192344, -1.7165640323896474]}\n"
     ]
    }
   ],
   "source": [
    "print(data)"
   ],
   "metadata": {
    "collapsed": false,
    "pycharm": {
     "name": "#%%\n"
    }
   }
  }
 ],
 "metadata": {
  "kernelspec": {
   "display_name": "Python 3",
   "language": "python",
   "name": "python3"
  },
  "language_info": {
   "codemirror_mode": {
    "name": "ipython",
    "version": 2
   },
   "file_extension": ".py",
   "mimetype": "text/x-python",
   "name": "python",
   "nbconvert_exporter": "python",
   "pygments_lexer": "ipython2",
   "version": "2.7.6"
  }
 },
 "nbformat": 4,
 "nbformat_minor": 0
}