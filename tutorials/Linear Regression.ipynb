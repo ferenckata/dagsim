{
 "cells": [
  {
   "cell_type": "code",
   "execution_count": 1,
   "metadata": {
    "collapsed": true,
    "pycharm": {
     "name": "#%%\n"
    }
   },
   "outputs": [],
   "source": [
    "from dagsim.base import Graph, Generic\n",
    "import numpy as np\n",
    "from sklearn.linear_model import LinearRegression as LinReg\n",
    "import pandas as pd\n"
   ]
  },
  {
   "cell_type": "code",
   "execution_count": 2,
   "outputs": [],
   "source": [
    "# define the function of the ground truth\n",
    "def ground_truth(x, add_param):\n",
    "    y = 2 * x + 1 + np.random.normal(0, add_param)\n",
    "    return y\n"
   ],
   "metadata": {
    "collapsed": false,
    "pycharm": {
     "name": "#%%\n"
    }
   }
  },
  {
   "cell_type": "code",
   "execution_count": 3,
   "outputs": [],
   "source": [
    "# define a node for the input feature, and another node for the outcome of a linear regression model\n",
    "Nodex = Generic(name=\"x\", function=np.random.normal)\n",
    "Nodey = Generic(name=\"y\", function=ground_truth, arguments={\"add_param\":1, \"x\": Nodex})\n",
    "\n",
    "# define a list of all nodes, then instantiate the graph\n",
    "listNodes = [Nodex, Nodey]\n",
    "my_graph = Graph(\"Linear Regression\", listNodes)\n"
   ],
   "metadata": {
    "collapsed": false,
    "pycharm": {
     "name": "#%%\n"
    }
   }
  },
  {
   "cell_type": "code",
   "execution_count": 4,
   "outputs": [],
   "source": [
    "my_graph.draw()\n"
   ],
   "metadata": {
    "collapsed": false,
    "pycharm": {
     "name": "#%%\n"
    }
   }
  },
  {
   "cell_type": "code",
   "execution_count": 5,
   "outputs": [
    {
     "name": "stdout",
     "output_type": "stream",
     "text": [
      "Simulation started\n",
      "Simulation finished in 0.0049 seconds\n",
      "Simulation started\n",
      "Simulation finished in 0.0015 seconds\n"
     ]
    }
   ],
   "source": [
    "# simulate data for training and testing, with different sample sizes and filenames\n",
    "train = my_graph.simulate(num_samples=70, csv_name=\"train\")\n",
    "test = my_graph.simulate(num_samples=30, csv_name=\"test\")\n"
   ],
   "metadata": {
    "collapsed": false,
    "pycharm": {
     "name": "#%%\n"
    }
   }
  },
  {
   "cell_type": "code",
   "execution_count": 6,
   "outputs": [
    {
     "name": "stdout",
     "output_type": "stream",
     "text": [
      "          x         y\n",
      "0 -1.153562 -1.307123\n",
      "1 -3.622153 -6.244307\n",
      "2  0.929049  2.858098\n",
      "3  0.274025  1.548049\n",
      "x_train (4, 1)\n",
      "y_train (4, 1)\n"
     ]
    }
   ],
   "source": [
    "# import the saved training data\n",
    "train_data = pd.read_csv(\"../train.csv\")\n",
    "print(train_data.head())\n",
    "\n",
    "x_train = train_data.iloc[:, 0].to_numpy().reshape([-1, 1])\n",
    "print(\"x_train\", x_train.shape)\n",
    "y_train = train_data.iloc[:, 1].to_numpy().reshape([-1, 1])\n",
    "print(\"y_train\", y_train.shape)\n"
   ],
   "metadata": {
    "collapsed": false,
    "pycharm": {
     "name": "#%%\n"
    }
   }
  },
  {
   "cell_type": "code",
   "execution_count": 7,
   "outputs": [
    {
     "name": "stdout",
     "output_type": "stream",
     "text": [
      "Coefficient:  [[2.]]\n",
      "Intercept:  [1.]\n"
     ]
    }
   ],
   "source": [
    "# define a linear regression model\n",
    "LR = LinReg()\n",
    "# fit the model on the training data\n",
    "reg = LR.fit(x_train, y_train)\n",
    "reg.score(x_train, y_train)\n",
    "print(\"Coefficient: \", LR.coef_)\n",
    "print(\"Intercept: \", LR.intercept_)\n"
   ],
   "metadata": {
    "collapsed": false,
    "pycharm": {
     "name": "#%%\n"
    }
   }
  },
  {
   "cell_type": "code",
   "execution_count": 8,
   "outputs": [
    {
     "name": "stdout",
     "output_type": "stream",
     "text": [
      "x_test (2, 1)\n",
      "y_test (2, 1)\n",
      "R2 score on test data:  -415.7297833600145\n"
     ]
    }
   ],
   "source": [
    "# import the saved testing data\n",
    "test_data = pd.read_csv(\"../test.csv\")\n",
    "x_test = test_data.iloc[:, 0].to_numpy().reshape([-1, 1])\n",
    "print(\"x_test\", x_test.shape)\n",
    "y_test = test_data.iloc[:, 1].to_numpy().reshape([-1, 1])\n",
    "print(\"y_test\", y_test.shape)\n",
    "\n",
    "# get the R2 score of the model on the testing data\n",
    "print(\"R2 score on test data: \", LR.score(x_test, y_test))"
   ],
   "metadata": {
    "collapsed": false,
    "pycharm": {
     "name": "#%%\n"
    }
   }
  }
 ],
 "metadata": {
  "kernelspec": {
   "display_name": "Python 3",
   "language": "python",
   "name": "python3"
  },
  "language_info": {
   "codemirror_mode": {
    "name": "ipython",
    "version": 2
   },
   "file_extension": ".py",
   "mimetype": "text/x-python",
   "name": "python",
   "nbconvert_exporter": "python",
   "pygments_lexer": "ipython2",
   "version": "2.7.6"
  }
 },
 "nbformat": 4,
 "nbformat_minor": 0
}