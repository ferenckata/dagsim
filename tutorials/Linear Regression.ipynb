{
 "cells": [
  {
   "cell_type": "code",
   "execution_count": 1,
   "metadata": {
    "pycharm": {
     "name": "#%%\n"
    }
   },
   "outputs": [],
   "source": [
    "import dagsim.base as ds\n",
    "import numpy as np\n",
    "from sklearn.linear_model import LinearRegression as LinReg\n",
    "import pandas as pd\n",
    "from sklearn.metrics import r2_score\n"
   ]
  },
  {
   "cell_type": "code",
   "execution_count": 2,
   "metadata": {
    "pycharm": {
     "name": "#%%\n"
    }
   },
   "outputs": [],
   "source": [
    "# define the function of the ground truth\n",
    "def ground_truth(x, std_dev):\n",
    "    y = x**2 + 1 + np.random.normal(0, std_dev)\n",
    "    return y\n"
   ]
  },
  {
   "cell_type": "code",
   "execution_count": 3,
   "metadata": {
    "pycharm": {
     "name": "#%%\n"
    }
   },
   "outputs": [],
   "source": [
    "# define a node for the input feature, and another node for the outcome of a linear regression model\n",
    "Nodex = ds.Node(name=\"x\", function=np.random.normal)\n",
    "Nodey = ds.Node(name=\"y\", function=ground_truth, kwargs={\"x\": Nodex, \"std_dev\": 0})\n",
    "\n",
    "# define a list of all nodes, then instantiate the graph\n",
    "listNodes = [Nodex, Nodey]\n",
    "my_graph = ds.Graph(\"Linear Regression\", listNodes)\n"
   ]
  },
  {
   "cell_type": "code",
   "execution_count": 4,
   "metadata": {
    "pycharm": {
     "name": "#%%\n"
    }
   },
   "outputs": [],
   "source": [
    "my_graph.draw()\n"
   ]
  },
  {
   "cell_type": "code",
   "execution_count": 5,
   "metadata": {
    "pycharm": {
     "name": "#%%\n"
    }
   },
   "outputs": [
    {
     "name": "stdout",
     "output_type": "stream",
     "text": [
      "2022-02-08 19:04:34.104465: Simulation started.\n",
      "2022-02-08 19:04:34.105992: Simulating node \"x\".\n",
      "2022-02-08 19:04:34.107380: Simulating node \"y\".\n",
      "2022-02-08 19:04:34.114438: Simulation finished in 0.0100 seconds.\n",
      "2022-02-08 19:04:34.115037: Simulation started.\n",
      "2022-02-08 19:04:34.115539: Simulating node \"x\".\n",
      "2022-02-08 19:04:34.116490: Simulating node \"y\".\n",
      "2022-02-08 19:04:34.119573: Simulation finished in 0.0045 seconds.\n"
     ]
    }
   ],
   "source": [
    "# simulate data for training and testing, with different sample sizes and filenames\n",
    "train = my_graph.simulate(num_samples=70, csv_name=\"train\")\n",
    "test = my_graph.simulate(num_samples=30, csv_name=\"test\")\n"
   ]
  },
  {
   "cell_type": "code",
   "execution_count": 6,
   "metadata": {
    "pycharm": {
     "name": "#%%\n"
    }
   },
   "outputs": [
    {
     "name": "stdout",
     "output_type": "stream",
     "text": [
      "          x         y\n",
      "0 -0.366428  1.134270\n",
      "1 -1.200749  2.441797\n",
      "2 -0.499085  1.249086\n",
      "3 -0.457521  1.209325\n",
      "4 -0.626889  1.392990\n",
      "x_train (70, 1)\n",
      "y_train (70, 1)\n"
     ]
    }
   ],
   "source": [
    "# import the saved training data\n",
    "train_data = pd.read_csv(\"./train.csv\")\n",
    "print(train_data.head())\n",
    "\n",
    "x_train = train_data.iloc[:, 0].to_numpy().reshape([-1, 1])\n",
    "print(\"x_train\", x_train.shape)\n",
    "y_train = train_data.iloc[:, 1].to_numpy().reshape([-1, 1])\n",
    "print(\"y_train\", y_train.shape)\n"
   ]
  },
  {
   "cell_type": "code",
   "execution_count": 7,
   "metadata": {
    "pycharm": {
     "name": "#%%\n"
    }
   },
   "outputs": [
    {
     "name": "stdout",
     "output_type": "stream",
     "text": [
      "Coefficient:  [[0.60225594]]\n",
      "Intercept:  [1.86351053]\n"
     ]
    }
   ],
   "source": [
    "# define a linear regression model\n",
    "LR = LinReg()\n",
    "# fit the model on the training data\n",
    "reg = LR.fit(x_train, y_train)\n",
    "print(\"Coefficient: \", LR.coef_)\n",
    "print(\"Intercept: \", LR.intercept_)\n"
   ]
  },
  {
   "cell_type": "code",
   "execution_count": 8,
   "metadata": {
    "pycharm": {
     "name": "#%%\n"
    }
   },
   "outputs": [
    {
     "name": "stdout",
     "output_type": "stream",
     "text": [
      "x_test (30, 1)\n",
      "y_test (30, 1)\n",
      "R2 score on test data:  0.19930024102485122\n"
     ]
    }
   ],
   "source": [
    "# import the saved testing data\n",
    "test_data = pd.read_csv(\"./test.csv\")\n",
    "x_test = test_data.iloc[:, 0].to_numpy().reshape([-1, 1])\n",
    "print(\"x_test\", x_test.shape)\n",
    "y_test = test_data.iloc[:, 1].to_numpy().reshape([-1, 1])\n",
    "print(\"y_test\", y_test.shape)\n",
    "\n",
    "# get the R2 score of the model on the testing data\n",
    "print(\"R2 score on test data: \", reg.score(x_test, y_test))"
   ]
  },
  {
   "cell_type": "code",
   "execution_count": null,
   "metadata": {},
   "outputs": [],
   "source": []
  }
 ],
 "metadata": {
  "kernelspec": {
   "display_name": "Python 3 (ipykernel)",
   "language": "python",
   "name": "python3"
  },
  "language_info": {
   "codemirror_mode": {
    "name": "ipython",
    "version": 3
   },
   "file_extension": ".py",
   "mimetype": "text/x-python",
   "name": "python",
   "nbconvert_exporter": "python",
   "pygments_lexer": "ipython3",
   "version": "3.9.2"
  }
 },
 "nbformat": 4,
 "nbformat_minor": 1
}