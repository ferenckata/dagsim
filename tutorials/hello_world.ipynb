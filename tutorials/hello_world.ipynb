{
 "cells": [
  {
   "cell_type": "code",
   "execution_count": 1,
   "metadata": {
    "collapsed": true
   },
   "outputs": [],
   "source": [
    "import dagsim.base as ds\n",
    "import numpy as np\n"
   ]
  },
  {
   "cell_type": "code",
   "execution_count": 2,
   "outputs": [],
   "source": [
    "def add(x, y):\n",
    "    return x + y\n",
    "\n",
    "\n",
    "def square_plus_constant(z, constant):\n",
    "    return np.square(z) + constant\n"
   ],
   "metadata": {
    "collapsed": false,
    "pycharm": {
     "name": "#%%\n"
    }
   }
  },
  {
   "cell_type": "code",
   "execution_count": 3,
   "outputs": [],
   "source": [
    "X = ds.Node(name=\"X\", function=np.random.normal)\n",
    "Y = ds.Node(name=\"Y\", function=np.random.normal, kwargs={\"loc\": 1, \"scale\": 2})\n",
    "Z = ds.Node(name=\"Z\", function=add, args=[X, Y])\n",
    "W = ds.Node(name=\"W\", function=square_plus_constant, args=[Z], kwargs={\"constant\": 2})"
   ],
   "metadata": {
    "collapsed": false,
    "pycharm": {
     "name": "#%%\n"
    }
   }
  },
  {
   "cell_type": "code",
   "execution_count": 4,
   "outputs": [
    {
     "name": "stdout",
     "output_type": "stream",
     "text": [
      "2022-03-05 10:07:52.623431: Simulation started.\n",
      "2022-03-05 10:07:52.624473: Simulating node \"X\".\n",
      "2022-03-05 10:07:52.625292: Simulating node \"Y\".\n",
      "2022-03-05 10:07:52.625854: Simulating node \"Z\".\n",
      "2022-03-05 10:07:52.626546: Simulating node \"W\".\n",
      "2022-03-05 10:07:52.631502: Simulation finished in 0.0081 seconds.\n",
      "{'X': [-0.023097992301765905, -1.1473905973386622], 'Y': [-0.0963826145198774, 0.18976021372436802], 'Z': [-0.1194806068216433, -0.9576303836142942], 'W': [2.014275615406468, 2.9170559516212604]}\n"
     ]
    }
   ],
   "source": [
    "listNodes = [X, Y, Z, W]\n",
    "my_graph = ds.Graph(listNodes, \"Graph1\")\n",
    "my_graph.draw()\n",
    "n = my_graph.simulate(num_samples=2, csv_name=\"test\")\n",
    "print(n)"
   ],
   "metadata": {
    "collapsed": false,
    "pycharm": {
     "name": "#%%\n"
    }
   }
  },
  {
   "cell_type": "code",
   "execution_count": 8,
   "outputs": [],
   "source": [],
   "metadata": {
    "collapsed": false,
    "pycharm": {
     "name": "#%%\n"
    }
   }
  }
 ],
 "metadata": {
  "kernelspec": {
   "display_name": "Python 3",
   "language": "python",
   "name": "python3"
  },
  "language_info": {
   "codemirror_mode": {
    "name": "ipython",
    "version": 2
   },
   "file_extension": ".py",
   "mimetype": "text/x-python",
   "name": "python",
   "nbconvert_exporter": "python",
   "pygments_lexer": "ipython2",
   "version": "2.7.6"
  }
 },
 "nbformat": 4,
 "nbformat_minor": 0
}