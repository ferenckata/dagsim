{
 "cells": [
  {
   "cell_type": "code",
   "execution_count": 6,
   "metadata": {
    "collapsed": true
   },
   "outputs": [],
   "source": [
    "import dagsim.base as ds\n",
    "import numpy as np\n"
   ]
  },
  {
   "cell_type": "code",
   "execution_count": 7,
   "outputs": [],
   "source": [
    "def add(params0, params1):\n",
    "    return params0 + params1\n",
    "\n",
    "\n",
    "def square(param, add_param):\n",
    "    return np.square(param) + add_param\n",
    "\n",
    "\n",
    "def double(param, add1, add2):\n",
    "    return np.square(param) + add1 - add2\n"
   ],
   "metadata": {
    "collapsed": false,
    "pycharm": {
     "name": "#%%\n"
    }
   }
  },
  {
   "cell_type": "code",
   "execution_count": 8,
   "outputs": [],
   "source": [
    "Prior1 = ds.Generic(name=\"Prior1\", function=np.random.normal)\n",
    "Prior2 = ds.Generic(name=\"Prior2\", function=np.random.normal)\n",
    "Node1 = ds.Generic(name=\"Node1\", arguments={\"param\": Prior2, \"add1\": 2, \"add2\": 1}, function=double)\n",
    "Node2 = ds.Generic(name=\"Node2\", arguments={\"param\": Prior1, \"add1\": 2, \"add2\": 1}, function=double)\n",
    "Node3 = ds.Generic(name=\"Node3\", arguments={\"param\": Node1, \"add_param\": 1}, function=square)\n",
    "Node4 = ds.Generic(name=\"Node4\", arguments={\"params0\": Node3, \"params1\": Prior1}, function=add)"
   ],
   "metadata": {
    "collapsed": false,
    "pycharm": {
     "name": "#%%\n"
    }
   }
  },
  {
   "cell_type": "code",
   "execution_count": 9,
   "outputs": [
    {
     "name": "stdout",
     "output_type": "stream",
     "text": [
      "{'Prior1': [-1.3189217702337268, 1.681543266360516], 'Node2': [2.739554635996468, 3.8275877566423935], 'Prior2': [0.9092644407931959, -0.01636339334389968], 'Node1': [1.8267618232909633, 1.0002677606417274], 'Node3': [4.337058759033324, 2.000535592979216], 'Node4': [3.018136988799597, 3.6820788593397324]}\n"
     ]
    }
   ],
   "source": [
    "listNodes = [Prior1, Prior2, Node1, Node2, Node3, Node4]\n",
    "my_graph = ds.Graph(\"Graph1\", listNodes)\n",
    "my_graph.draw()\n",
    "n = my_graph.simulate(num_samples=2, csv_name=\"test\")\n",
    "print(n)\n"
   ],
   "metadata": {
    "collapsed": false,
    "pycharm": {
     "name": "#%%\n"
    }
   }
  }
 ],
 "metadata": {
  "kernelspec": {
   "display_name": "Python 3",
   "language": "python",
   "name": "python3"
  },
  "language_info": {
   "codemirror_mode": {
    "name": "ipython",
    "version": 2
   },
   "file_extension": ".py",
   "mimetype": "text/x-python",
   "name": "python",
   "nbconvert_exporter": "python",
   "pygments_lexer": "ipython2",
   "version": "2.7.6"
  }
 },
 "nbformat": 4,
 "nbformat_minor": 0
}