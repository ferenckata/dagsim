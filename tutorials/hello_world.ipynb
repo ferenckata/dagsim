{
 "cells": [
  {
   "cell_type": "code",
   "execution_count": null,
   "metadata": {
    "collapsed": true
   },
   "outputs": [],
   "source": [
    "import dagsim.base as ds\n",
    "import numpy as np\n",
    "from random import choices\n",
    "import pandas as pd\n"
   ]
  },
  {
   "cell_type": "code",
   "execution_count": null,
   "outputs": [],
   "source": [
    "def simulate_sequence(seq_len, p_head):\n",
    "    return \"\".join(choices([\"H\", \"T\"], [p_head, 1-p_head], k=seq_len))\n"
   ],
   "metadata": {
    "collapsed": false
   }
  },
  {
   "cell_type": "code",
   "execution_count": null,
   "outputs": [],
   "source": [
    "sequence_length = ds.Node(name=\"sequence_length\", function=np.random.randint, args=[10, 20])\n",
    "p_head = ds.Node(name=\"p_head\", function=np.random.uniform)\n",
    "sequence = ds.Node(name=\"sequence\", function=simulate_sequence, args=[sequence_length, p_head])"
   ],
   "metadata": {
    "collapsed": false
   }
  },
  {
   "cell_type": "code",
   "execution_count": null,
   "outputs": [],
   "source": [
    "listNodes = [sequence_length, p_head, sequence]\n",
    "my_graph = ds.Graph(listNodes, \"Graph1\")\n",
    "my_graph.draw()"
   ],
   "metadata": {
    "collapsed": false
   }
  },
  {
   "cell_type": "code",
   "execution_count": null,
   "outputs": [],
   "source": [
    "data = my_graph.simulate(num_samples=100, csv_name=\"hello_world\")\n",
    "print(pd.DataFrame(data).head())"
   ],
   "metadata": {
    "collapsed": false
   }
  }
 ],
 "metadata": {
  "kernelspec": {
   "display_name": "Python 3",
   "language": "python",
   "name": "python3"
  },
  "language_info": {
   "codemirror_mode": {
    "name": "ipython",
    "version": 2
   },
   "file_extension": ".py",
   "mimetype": "text/x-python",
   "name": "python",
   "nbconvert_exporter": "python",
   "pygments_lexer": "ipython2",
   "version": "2.7.6"
  }
 },
 "nbformat": 4,
 "nbformat_minor": 0
}
