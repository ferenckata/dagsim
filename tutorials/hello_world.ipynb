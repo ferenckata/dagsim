{
 "cells": [
  {
   "cell_type": "code",
   "execution_count": 5,
   "metadata": {
    "collapsed": true
   },
   "outputs": [],
   "source": [
    "import dagsim.base as ds\n",
    "import numpy as np\n"
   ]
  },
  {
   "cell_type": "code",
   "execution_count": 6,
   "outputs": [],
   "source": [
    "def add(x, y):\n",
    "    return x + y\n",
    "\n",
    "\n",
    "def square_plus_constant(z, constant):\n",
    "    return np.square(z) + constant\n"
   ],
   "metadata": {
    "collapsed": false,
    "pycharm": {
     "name": "#%%\n"
    }
   }
  },
  {
   "cell_type": "code",
   "execution_count": 7,
   "outputs": [],
   "source": [
    "X = ds.Node(name=\"X\", function=np.random.normal)\n",
    "Y = ds.Node(name=\"Y\", function=np.random.normal, kwargs={\"loc\": 1, \"scale\": 2})\n",
    "Z = ds.Node(name=\"Z\", function=add, kwargs={\"x\": X, \"y\": Y})\n",
    "W = ds.Node(name=\"W\", function=square_plus_constant, args=[Z], kwargs={\"constant\": 2})"
   ],
   "metadata": {
    "collapsed": false,
    "pycharm": {
     "name": "#%%\n"
    }
   }
  },
  {
   "cell_type": "code",
   "execution_count": 8,
   "outputs": [
    {
     "name": "stdout",
     "output_type": "stream",
     "text": [
      "2022-02-11 20:34:21.202261: Simulation started.\n",
      "2022-02-11 20:34:21.202912: Simulating node \"X\".\n",
      "2022-02-11 20:34:21.203376: Simulating node \"Y\".\n",
      "2022-02-11 20:34:21.203764: Simulating node \"Z\".\n",
      "2022-02-11 20:34:21.204211: Simulating node \"W\".\n",
      "2022-02-11 20:34:21.206838: Simulation finished in 0.0046 seconds.\n",
      "{'X': [0.5736817893001526, 1.1905617092659018], 'Y': [2.3749044331115536, -3.209801501448445], 'Z': [2.948586222411706, -2.0192397921825433], 'W': [10.694160710996135, 6.077329338333401]}\n"
     ]
    }
   ],
   "source": [
    "listNodes = [X, Y, Z, W]\n",
    "my_graph = ds.Graph(listNodes, \"Graph1\")\n",
    "my_graph.draw()\n",
    "n = my_graph.simulate(num_samples=2, csv_name=\"test\")\n",
    "print(n)"
   ],
   "metadata": {
    "collapsed": false,
    "pycharm": {
     "name": "#%%\n"
    }
   }
  },
  {
   "cell_type": "code",
   "execution_count": 8,
   "outputs": [],
   "source": [],
   "metadata": {
    "collapsed": false,
    "pycharm": {
     "name": "#%%\n"
    }
   }
  }
 ],
 "metadata": {
  "kernelspec": {
   "display_name": "Python 3",
   "language": "python",
   "name": "python3"
  },
  "language_info": {
   "codemirror_mode": {
    "name": "ipython",
    "version": 2
   },
   "file_extension": ".py",
   "mimetype": "text/x-python",
   "name": "python",
   "nbconvert_exporter": "python",
   "pygments_lexer": "ipython2",
   "version": "2.7.6"
  }
 },
 "nbformat": 4,
 "nbformat_minor": 0
}