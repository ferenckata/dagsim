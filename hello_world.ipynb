{
 "cells": [
  {
   "cell_type": "code",
   "execution_count": null,
   "metadata": {
    "collapsed": true
   },
   "outputs": [],
   "source": [
    "from baseDS import Graph, Generic, Selection\n",
    "import numpy as np"
   ]
  },
  {
   "cell_type": "code",
   "execution_count": null,
   "outputs": [],
   "source": [
    "def add(params0, params1):\n",
    "    return params0 + params1\n",
    "\n",
    "\n",
    "def square(param, add_param):\n",
    "    return np.square(param) + add_param\n",
    "\n",
    "\n",
    "def double(param, add1, add2):\n",
    "    return np.square(param) + add1 - add2\n"
   ],
   "metadata": {
    "collapsed": false,
    "pycharm": {
     "name": "#%%\n"
    }
   }
  },
  {
   "cell_type": "code",
   "execution_count": null,
   "outputs": [],
   "source": [
    "Prior1 = Generic(name=\"Prior1\", function=np.random.normal)\n",
    "Prior2 = Generic(name=\"Prior2\", function=np.random.normal)\n",
    "Node1 = Generic(name=\"Node1\", arguments={\"param\": Prior2, \"add1\": 2, \"add2\": 1}, function=double)\n",
    "Node2 = Generic(name=\"Node2\", arguments={\"param\": Prior1, \"add1\": 2, \"add2\": 1}, function=double)\n",
    "Node3 = Generic(name=\"Node3\", arguments={\"param\": Node1, \"add_param\": 1}, function=square)\n",
    "Node4 = Generic(name=\"Node4\", arguments={\"params0\": Node3, \"params1\": Prior1}, function=add)"
   ],
   "metadata": {
    "collapsed": false,
    "pycharm": {
     "name": "#%%\n"
    }
   }
  },
  {
   "cell_type": "code",
   "execution_count": null,
   "outputs": [],
   "source": [
    "listNodes = [Prior1, Prior2, Node1, Node2, Node3, Node4]\n",
    "my_graph = Graph(\"Graph1\", listNodes)\n",
    "\n",
    "n = my_graph.simulate(num_samples=2, csv_name=\"test\")\n",
    "print(n)\n"
   ],
   "metadata": {
    "collapsed": false,
    "pycharm": {
     "name": "#%%\n"
    }
   }
  }
 ],
 "metadata": {
  "kernelspec": {
   "display_name": "Python 3",
   "language": "python",
   "name": "python3"
  },
  "language_info": {
   "codemirror_mode": {
    "name": "ipython",
    "version": 2
   },
   "file_extension": ".py",
   "mimetype": "text/x-python",
   "name": "python",
   "nbconvert_exporter": "python",
   "pygments_lexer": "ipython2",
   "version": "2.7.6"
  }
 },
 "nbformat": 4,
 "nbformat_minor": 0
}